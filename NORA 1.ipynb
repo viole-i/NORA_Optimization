{
 "cells": [
  {
   "cell_type": "markdown",
   "id": "f9076d18",
   "metadata": {},
   "source": [
    "Oppgave 1 (vekt 25%)\n",
    "Consider the function f : R3 → R given by the formula f (x, y, z) =\n",
    "sin(π(xy + y^2 − z^2)).\n",
    "Consider 4 points A = (0, 0, 0), B = (0.5, 1, 1), C = (−0.5, 1, −1) and\n",
    "D = (1, 1, 1).\n",
    "\n",
    "a) (vekt 5%)\n",
    "At each of these 4 points, compute the gradient and Hessian."
   ]
  },
  {
   "cell_type": "code",
   "execution_count": 1,
   "id": "280e43e1",
   "metadata": {},
   "outputs": [
    {
     "name": "stdout",
     "output_type": "stream",
     "text": [
      "Point: [0 0 0]\n",
      "Gradient: (0.0, 0.0, 0.0)\n",
      "Hessian:\n",
      "[[0.0, 3.141592653589795, 0.0],\n",
      " [3.141592653589795, 6.283185307179586, 0.0],\n",
      " [0.0, 0.0, -6.283185307179586]]\n",
      "\n",
      "Point: [0.5 1.  1. ]\n",
      "Gradient: (0.0, -9.198974192063614e-14, 3.195608666411739e-14)\n",
      "Hessian:\n",
      "[[-9.869604401093586, -24.67401100273098, 19.739208802187328],\n",
      " [-24.67401100273098, -61.68502750680796, 49.34802200545157],\n",
      " [19.739208802187328, 49.34802200545157, -39.478417604354526]]\n",
      "\n",
      "Point: [-0.5  1.  -1. ]\n",
      "Gradient: (0.0, 1.1263815728130123e-13, 3.195608666411739e-14)\n",
      "Hessian:\n",
      "[[9.869604401093586, 14.804406601646518, 19.73920880218661],\n",
      " [14.804406601646518, 22.206609902451728, 29.608813203277627],\n",
      " [19.73920880218661, 29.608813203277627, 39.478417604354526]]\n",
      "\n",
      "Point: [1 1 1]\n",
      "Gradient: (-3.141592653589776, -9.424777960769458, 6.283185307179316)\n",
      "Hessian:\n",
      "[[0.0, -3.1415926536380216, 7.883853812795009e-12],\n",
      " [-3.1415926536380216, -6.283185307176488, 1.2464500173057674e-15],\n",
      " [7.883853812795009e-12, 1.2464500173057674e-15, 6.283185307143608]]\n",
      "\n"
     ]
    },
    {
     "name": "stderr",
     "output_type": "stream",
     "text": [
      "C:\\Users\\isabelvi\\Anaconda3\\lib\\site-packages\\scipy\\__init__.py:146: UserWarning: A NumPy version >=1.16.5 and <1.23.0 is required for this version of SciPy (detected version 1.24.3\n",
      "  warnings.warn(f\"A NumPy version >={np_minversion} and <{np_maxversion}\"\n"
     ]
    }
   ],
   "source": [
    "from numdifftools import Gradient, Hessian\n",
    "import numpy as np\n",
    "\n",
    "def formula(xyz):\n",
    "    x, y, z = xyz\n",
    "    return np.sin(np.pi * (x * y + y**2 - z**2))\n",
    "\n",
    "gradient = Gradient(formula)\n",
    "hessian = Hessian(formula)\n",
    "\n",
    "point_a = np.array([0, 0, 0])\n",
    "point_b = np.array([0.5, 1, 1])\n",
    "point_c = np.array([-0.5, 1, -1])\n",
    "point_d = np.array([1, 1, 1])\n",
    "\n",
    "points = [point_a, point_b, point_c, point_d]\n",
    "\n",
    "for point in points:\n",
    "    gradient_result = gradient(point)\n",
    "    hessian_result = hessian(point)\n",
    "\n",
    "    gradient_x = gradient_result[0]\n",
    "    gradient_y = gradient_result[1]\n",
    "    gradient_z = gradient_result[2]\n",
    "\n",
    "    hessian_xx = hessian_result[0, 0]\n",
    "    hessian_xy = hessian_result[0, 1]\n",
    "    hessian_xz = hessian_result[0, 2]\n",
    "    hessian_yy = hessian_result[1, 1]\n",
    "    hessian_yz = hessian_result[1, 2]\n",
    "    hessian_zz = hessian_result[2, 2]\n",
    "\n",
    "    print(\"Point:\", point)\n",
    "    print(\"Gradient: ({}, {}, {})\".format(gradient_x, gradient_y, gradient_z))\n",
    "    print(\"Hessian:\")\n",
    "    print(\"[[{}, {}, {}],\".format(hessian_xx, hessian_xy, hessian_xz))\n",
    "    print(\" [{}, {}, {}],\".format(hessian_xy, hessian_yy, hessian_yz))\n",
    "    print(\" [{}, {}, {}]]\".format(hessian_xz, hessian_yz, hessian_zz))\n",
    "    print()"
   ]
  },
  {
   "cell_type": "markdown",
   "id": "f3392abb",
   "metadata": {},
   "source": [
    "b (vekt 5%)\n",
    "Which point(s) is(are) critical points?\n",
    "All these points are critical points, as they are all saddle points. See code below.\n",
    "\n",
    "c (vekt 5%)\n",
    "Compute the eigenvalues of the Hessian at each of these 4 points.\n",
    "\n",
    "d (vekt 5%)\n",
    "Which point(s) is(are): local minimum, local maximum, saddle point?\n",
    "\n",
    "A local minimum is present when all the eigenvalues of the Hessian are >0,\n",
    "a local maximum if all the eigenvalues of the Hessian are <0,\n",
    "a saddle point if any eigenvalue is >0 and any eigenvalue is <0."
   ]
  },
  {
   "cell_type": "code",
   "execution_count": 3,
   "id": "944aacb8",
   "metadata": {},
   "outputs": [
    {
     "name": "stdout",
     "output_type": "stream",
     "text": [
      "Point: [0 0 0]\n",
      "Eigenvalues: [-7.58447559  1.30129028  6.28318531]\n",
      "Point is a saddle point.\n",
      "Point: [0.5 1.  1. ]\n",
      "Eigenvalues: [-7.58447559  1.30129028  6.28318531]\n",
      "Point is a saddle point.\n",
      "Point: [-0.5  1.  -1. ]\n",
      "Eigenvalues: [-7.58447559  1.30129028  6.28318531]\n",
      "Point is a saddle point.\n",
      "Point: [1 1 1]\n",
      "Eigenvalues: [-7.58447559  1.30129028  6.28318531]\n",
      "Point is a saddle point.\n"
     ]
    }
   ],
   "source": [
    "for point in points:\n",
    "    # Calculate eigenvalues of the Hessian\n",
    "    eigenvalues = np.linalg.eigvals(hessian_result)\n",
    "    print(\"Point:\", point)\n",
    "    print(\"Eigenvalues:\", eigenvalues)\n",
    "    \n",
    "    # Classify the point based on eigenvalues\n",
    "    if all(val > 0 for val in eigenvalues):\n",
    "        print(\"Point is a local minimum.\")\n",
    "    elif all(val < 0 for val in eigenvalues):\n",
    "        print(\"Point is a local maximum.\")\n",
    "    elif any(val > 0 for val in eigenvalues) and any(val < 0 for val in eigenvalues):\n",
    "        print(\"Point is a saddle point.\")\n",
    "    else:\n",
    "        print(\"Cannot determine the nature of the point.\")"
   ]
  },
  {
   "cell_type": "markdown",
   "id": "91243a8b",
   "metadata": {},
   "source": [
    "e (vekt 5%)\n",
    "Which point(s) is(are): global minimum, global maximum?\n",
    "\n",
    "The sine function oscillates between -1 and 1 for any input, hence the function\n",
    "f(x, y, z) will also oscillate between -1 and 1. There is no global minimum\n",
    "or global maximum."
   ]
  }
 ],
 "metadata": {
  "kernelspec": {
   "display_name": "Python 3 (ipykernel)",
   "language": "python",
   "name": "python3"
  },
  "language_info": {
   "codemirror_mode": {
    "name": "ipython",
    "version": 3
   },
   "file_extension": ".py",
   "mimetype": "text/x-python",
   "name": "python",
   "nbconvert_exporter": "python",
   "pygments_lexer": "ipython3",
   "version": "3.9.7"
  }
 },
 "nbformat": 4,
 "nbformat_minor": 5
}
