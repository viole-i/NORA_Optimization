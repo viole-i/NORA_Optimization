{
 "cells": [
  {
   "cell_type": "markdown",
   "id": "f9076d18",
   "metadata": {},
   "source": [
    "Oppgave 1 (vekt 25%)\n",
    "Consider the function f : R3 → R given by the formula f (x, y, z) =\n",
    "sin(π(xy + y^2 − z^2)).\n",
    "Consider 4 points A = (0, 0, 0), B = (0.5, 1, 1), C = (−0.5, 1, −1) and\n",
    "D = (1, 1, 1).\n",
    "\n",
    "a) (vekt 5%)\n",
    "At each of these 4 points, compute the gradient and Hessian.\n",
    "\n",
    "The gradient of a point is its first-order derivative. This means that the gradient of a formula with three unknowns results in three values, which include the x-y, the x-z, and the y-z derivative. For the given formula f the partial derivatives are:\n",
    "d/dx(sin(π (x y + y^2 - z^2))) = π y cos(π (x y + y^2 - z^2))\n",
    "d/dy(sin(π (x y + y^2 - z^2))) = π (x + 2 y) cos(π (x y + y^2 - z^2))\n",
    "d/dz(sin(π (x y + y^2 - z^2))) = -2 π z cos(π (x y + y^2 - z^2))\n",
    "\n",
    "The Hessian matrix shows the second-order derivative."
   ]
  },
  {
   "cell_type": "code",
   "execution_count": 1,
   "id": "280e43e1",
   "metadata": {},
   "outputs": [
    {
     "name": "stdout",
     "output_type": "stream",
     "text": [
      "Point: [0 0 0]\n",
      "Gradient: (0.0, 0.0, 0.0)\n",
      "Hessian:\n",
      "[[0.0, 3.1415926535897944, 0.0],\n",
      " [3.1415926535897944, 6.283185307179586, 0.0],\n",
      " [0.0, 0.0, -6.283185307179586]]\n",
      "\n",
      "Point: [0.5 1.  1. ]\n",
      "Gradient: (0.0, -9.198974159090879e-14, 3.195609178867741e-14)\n",
      "Hessian:\n",
      "[[-9.869604401093587, -24.674011002730982, 19.739208802187328],\n",
      " [-24.674011002730982, -61.68502750680795, 49.34802200545159],\n",
      " [19.739208802187328, 49.34802200545159, -39.47841760435451]]\n",
      "\n",
      "Point: [-0.5  1.  -1. ]\n",
      "Gradient: (0.0, 1.1263815598666597e-13, 3.195609178867741e-14)\n",
      "Hessian:\n",
      "[[9.869604401093587, 14.804406601646521, 19.73920880218661],\n",
      " [14.804406601646521, 22.20660990245172, 29.608813203277627],\n",
      " [19.73920880218661, 29.608813203277627, 39.47841760435451]]\n",
      "\n",
      "Point: [1 1 1]\n",
      "Gradient: (-3.1415926535897754, -9.424777960769458, 6.283185307179316)\n",
      "Hessian:\n",
      "[[0.0, -3.141592653638022, 7.883853331905701e-12],\n",
      " [-3.141592653638022, -6.283185307176487, 1.2464500173057672e-15],\n",
      " [7.883853331905701e-12, 1.2464500173057672e-15, 6.283185307143607]]\n",
      "\n"
     ]
    }
   ],
   "source": [
    "from numdifftools import Gradient, Hessian\n",
    "import numpy as np\n",
    "\n",
    "def formula(xyz):\n",
    "    x, y, z = xyz\n",
    "    return np.sin(np.pi * (x * y + y**2 - z**2))\n",
    "\n",
    "gradient = Gradient(formula)\n",
    "hessian = Hessian(formula)\n",
    "\n",
    "point_a = np.array([0, 0, 0])\n",
    "point_b = np.array([0.5, 1, 1])\n",
    "point_c = np.array([-0.5, 1, -1])\n",
    "point_d = np.array([1, 1, 1])\n",
    "\n",
    "points = [point_a, point_b, point_c, point_d]\n",
    "\n",
    "for point in points:\n",
    "    gradient_result = gradient(point)\n",
    "    hessian_result = hessian(point)\n",
    "\n",
    "    gradient_x = gradient_result[0]\n",
    "    gradient_y = gradient_result[1]\n",
    "    gradient_z = gradient_result[2]\n",
    "\n",
    "    hessian_xx = hessian_result[0, 0]\n",
    "    hessian_xy = hessian_result[0, 1]\n",
    "    hessian_xz = hessian_result[0, 2]\n",
    "    hessian_yy = hessian_result[1, 1]\n",
    "    hessian_yz = hessian_result[1, 2]\n",
    "    hessian_zz = hessian_result[2, 2]\n",
    "\n",
    "    print(\"Point:\", point)\n",
    "    print(\"Gradient: ({}, {}, {})\".format(gradient_x, gradient_y, gradient_z))\n",
    "    print(\"Hessian:\")\n",
    "    print(\"[[{}, {}, {}],\".format(hessian_xx, hessian_xy, hessian_xz))\n",
    "    print(\" [{}, {}, {}],\".format(hessian_xy, hessian_yy, hessian_yz))\n",
    "    print(\" [{}, {}, {}]]\".format(hessian_xz, hessian_yz, hessian_zz))\n",
    "    print()"
   ]
  },
  {
   "cell_type": "markdown",
   "id": "f3392abb",
   "metadata": {},
   "source": [
    "b (vekt 5%)\n",
    "Which point(s) is(are) critical points?\n",
    "A critical point is a point of the function where the derivative is zero. Critical points can either be (local) minima, (local) maxima, or saddle points. We calculate the eigenvalue of the Hessian, that is the second order derivative, to decide which type of critical point we find. If all eigenvalues are positive, we find a local minimum. If all eigenvalues are negative, we find a local maximum. If we find positive AND negative eigenvalues, we have a saddle point.\n",
    "All the points discussed in a) are critical points, they are all saddle points. See code below.\n",
    "\n",
    "c (vekt 5%)\n",
    "Compute the eigenvalues of the Hessian at each of these 4 points.\n",
    "See code below.\n",
    "\n",
    "d (vekt 5%)\n",
    "Which point(s) is(are): local minimum, local maximum, saddle point?\n",
    "\n",
    "A local minimum is present when all the eigenvalues of the Hessian are >0,\n",
    "a local maximum if all the eigenvalues of the Hessian are <0,\n",
    "a saddle point if any eigenvalue is >0 and any eigenvalue is <0.\n",
    "\n",
    "All points are saddle points."
   ]
  },
  {
   "cell_type": "code",
   "execution_count": 3,
   "id": "944aacb8",
   "metadata": {},
   "outputs": [
    {
     "name": "stdout",
     "output_type": "stream",
     "text": [
      "Point: [0 0 0]\n",
      "Eigenvalues: [-7.58447559  1.30129028  6.28318531]\n",
      "Point is a saddle point.\n",
      "Point: [0.5 1.  1. ]\n",
      "Eigenvalues: [-7.58447559  1.30129028  6.28318531]\n",
      "Point is a saddle point.\n",
      "Point: [-0.5  1.  -1. ]\n",
      "Eigenvalues: [-7.58447559  1.30129028  6.28318531]\n",
      "Point is a saddle point.\n",
      "Point: [1 1 1]\n",
      "Eigenvalues: [-7.58447559  1.30129028  6.28318531]\n",
      "Point is a saddle point.\n"
     ]
    }
   ],
   "source": [
    "for point in points:\n",
    "    # Calculate eigenvalues of the Hessian\n",
    "    eigenvalues = np.linalg.eigvals(hessian_result)\n",
    "    print(\"Point:\", point)\n",
    "    print(\"Eigenvalues:\", eigenvalues)\n",
    "    \n",
    "    # Classify the point based on eigenvalues\n",
    "    if all(val > 0 for val in eigenvalues):\n",
    "        print(\"Point is a local minimum.\")\n",
    "    elif all(val < 0 for val in eigenvalues):\n",
    "        print(\"Point is a local maximum.\")\n",
    "    elif any(val > 0 for val in eigenvalues) and any(val < 0 for val in eigenvalues):\n",
    "        print(\"Point is a saddle point.\")\n",
    "    else:\n",
    "        print(\"Cannot determine the nature of the point.\")"
   ]
  },
  {
   "cell_type": "markdown",
   "id": "91243a8b",
   "metadata": {},
   "source": [
    "e (vekt 5%)\n",
    "Which point(s) is(are): global minimum, global maximum?\n",
    "\n",
    "The sine function oscillates between -1 and 1 for any input, hence the function\n",
    "f(x, y, z) will also oscillate between -1 and 1. There is no global minimum\n",
    "or global maximum."
   ]
  }
 ],
 "metadata": {
  "kernelspec": {
   "display_name": "Python 3 (ipykernel)",
   "language": "python",
   "name": "python3"
  },
  "language_info": {
   "codemirror_mode": {
    "name": "ipython",
    "version": 3
   },
   "file_extension": ".py",
   "mimetype": "text/x-python",
   "name": "python",
   "nbconvert_exporter": "python",
   "pygments_lexer": "ipython3",
   "version": "3.9.7"
  }
 },
 "nbformat": 4,
 "nbformat_minor": 5
}
